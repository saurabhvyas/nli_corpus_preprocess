{
 "cells": [
  {
   "cell_type": "code",
   "execution_count": 1,
   "metadata": {},
   "outputs": [],
   "source": [
    "# this script takes training files of two datasets snli and sci and merges them together in the \n",
    "# format suitable for training on finetune code\n",
    "\n",
    "# to do , replace entailment with entails\n",
    "\n",
    "# note : manually remove and update the header of output file\n"
   ]
  },
  {
   "cell_type": "code",
   "execution_count": 2,
   "metadata": {},
   "outputs": [],
   "source": [
    "import pandas as pd\n",
    "import numpy as np"
   ]
  },
  {
   "cell_type": "code",
   "execution_count": 3,
   "metadata": {},
   "outputs": [
    {
     "name": "stdout",
     "output_type": "stream",
     "text": [
      "['annotator_labels' 'captionID' 'gold_label' 'pairID' 'sentence1'\n",
      " 'sentence1_binary_parse' 'sentence1_parse' 'sentence2'\n",
      " 'sentence2_binary_parse' 'sentence2_parse']\n"
     ]
    }
   ],
   "source": [
    "\n",
    "mydata=pd.read_json('snli_1.0_train.jsonl' , lines=True)\n",
    "#csv_table=pd.read_table(tsv_file,sep='\\t')\n",
    "print(mydata.columns.values)\n",
    "#csv_table.to_csv('new_name.csv',index=False)"
   ]
  },
  {
   "cell_type": "code",
   "execution_count": 4,
   "metadata": {},
   "outputs": [],
   "source": [
    "mydata = mydata[['sentence1','sentence2','gold_label']]\n",
    "mydata = mydata.rename(columns={'sentence1': 'x1', 'sentence2': 'x2', 'gold_label': 'target'})"
   ]
  },
  {
   "cell_type": "code",
   "execution_count": 5,
   "metadata": {},
   "outputs": [
    {
     "name": "stdout",
     "output_type": "stream",
     "text": [
      "['x1' 'x2' 'target']\n"
     ]
    }
   ],
   "source": [
    "print(mydata.columns.values)\n",
    "\n",
    "# before saving remove the header\n"
   ]
  },
  {
   "cell_type": "code",
   "execution_count": 6,
   "metadata": {},
   "outputs": [],
   "source": [
    "mydata.to_csv('snli_1.0_train_pandas.csv',header=False)"
   ]
  },
  {
   "cell_type": "code",
   "execution_count": 7,
   "metadata": {},
   "outputs": [],
   "source": [
    "# replace entailment with entails\n",
    "\n",
    "#import fileinput\n",
    "\n",
    "#with fileinput.FileInput('snli_1.0_train_pandas.csv', inplace=True, backup='.bak') as file:\n",
    " #   for line in file:\n",
    "  #      print(line.replace('entailment', 'entails'), end='')"
   ]
  },
  {
   "cell_type": "code",
   "execution_count": 8,
   "metadata": {},
   "outputs": [],
   "source": [
    "# preprocessing for scitail\n",
    "\n",
    "scitail_data=pd.read_csv('/Users/saurabh/Downloads/SciTailV1/tsv_format/scitail_1.0_train.tsv',names = [\"x1\", \"x2\", \"target\"] , sep='\\t')\n",
    "\n",
    "\n",
    "\n",
    "#scitail_data.to_csv('scitail_1.0_train_pandas.csv',header=False)"
   ]
  },
  {
   "cell_type": "code",
   "execution_count": 9,
   "metadata": {},
   "outputs": [
    {
     "name": "stdout",
     "output_type": "stream",
     "text": [
      "['x1' 'x2' 'target']\n"
     ]
    },
    {
     "data": {
      "text/plain": [
       "False"
      ]
     },
     "execution_count": 9,
     "metadata": {},
     "output_type": "execute_result"
    }
   ],
   "source": [
    "print(scitail_data.columns.values)\n",
    "mydata.isnull().values.any()"
   ]
  },
  {
   "cell_type": "code",
   "execution_count": 10,
   "metadata": {},
   "outputs": [],
   "source": [
    "concatenated_dataset=pd.concat([mydata,scitail_data], ignore_index=True)"
   ]
  },
  {
   "cell_type": "code",
   "execution_count": 11,
   "metadata": {},
   "outputs": [
    {
     "data": {
      "text/plain": [
       "False"
      ]
     },
     "execution_count": 11,
     "metadata": {},
     "output_type": "execute_result"
    }
   ],
   "source": [
    "concatenated_dataset.isnull().values.any()"
   ]
  },
  {
   "cell_type": "code",
   "execution_count": 12,
   "metadata": {},
   "outputs": [
    {
     "name": "stdout",
     "output_type": "stream",
     "text": [
      "['x1' 'x2' 'target']\n",
      "x1        A person on a horse jumps over a broken down a...\n",
      "x2                        A person is outdoors, on a horse.\n",
      "target                                           entailment\n",
      "Name: 2, dtype: object\n"
     ]
    }
   ],
   "source": [
    "print(concatenated_dataset.columns.values)\n",
    "print(concatenated_dataset.iloc[2])"
   ]
  },
  {
   "cell_type": "code",
   "execution_count": 13,
   "metadata": {},
   "outputs": [
    {
     "name": "stdout",
     "output_type": "stream",
     "text": [
      "['x1' 'x2' 'target']\n"
     ]
    }
   ],
   "source": [
    "concatenated_dataset_shuffled = concatenated_dataset.sample(frac=1).reset_index(drop=True)\n",
    "print(concatenated_dataset_shuffled.columns.values)"
   ]
  },
  {
   "cell_type": "code",
   "execution_count": 14,
   "metadata": {},
   "outputs": [
    {
     "data": {
      "text/plain": [
       "False"
      ]
     },
     "execution_count": 14,
     "metadata": {},
     "output_type": "execute_result"
    }
   ],
   "source": [
    "concatenated_dataset_shuffled.isnull().values.any()"
   ]
  },
  {
   "cell_type": "code",
   "execution_count": 15,
   "metadata": {},
   "outputs": [
    {
     "name": "stdout",
     "output_type": "stream",
     "text": [
      "573249\n",
      "572464\n"
     ]
    }
   ],
   "source": [
    "# drop rows having optional class label, belonging to SNLI dataset\n",
    "\n",
    "print(concatenated_dataset_shuffled.shape[0])\n",
    "concatenated_dataset_shuffled = concatenated_dataset_shuffled.loc[concatenated_dataset_shuffled['target'] != '-']        \n",
    "                                                        \n",
    "                                                                \n",
    "                                    \n",
    "print(concatenated_dataset_shuffled.shape[0])\n",
    "                                    "
   ]
  },
  {
   "cell_type": "code",
   "execution_count": 16,
   "metadata": {},
   "outputs": [],
   "source": [
    "concatenated_dataset_shuffled.to_csv('concatenated_train_pandas.csv')"
   ]
  },
  {
   "cell_type": "code",
   "execution_count": 17,
   "metadata": {},
   "outputs": [],
   "source": [
    "# replace entailment with entails\n",
    "\n",
    "import fileinput\n",
    "\n",
    "with fileinput.FileInput('concatenated_train_pandas.csv', inplace=True, backup='.bak') as file:\n",
    "    for line in file:\n",
    "        print(line.replace(',entailment', ',entails'), end='')"
   ]
  },
  {
   "cell_type": "code",
   "execution_count": null,
   "metadata": {},
   "outputs": [],
   "source": []
  },
  {
   "cell_type": "code",
   "execution_count": 18,
   "metadata": {},
   "outputs": [
    {
     "data": {
      "text/plain": [
       "True"
      ]
     },
     "execution_count": 18,
     "metadata": {},
     "output_type": "execute_result"
    }
   ],
   "source": [
    "# this block has code to testing purpose only, remove it later\n",
    "\n",
    "test2_data=pd.read_csv('concatenated_train_pandas.csv')\n",
    "test2_data.isnull().values.any()\n"
   ]
  },
  {
   "cell_type": "code",
   "execution_count": null,
   "metadata": {},
   "outputs": [],
   "source": [
    "# print rows with NAN\n",
    "\n",
    "df1 = df[df.isnull().any(axis=1)]"
   ]
  }
 ],
 "metadata": {
  "kernelspec": {
   "display_name": "Python 3",
   "language": "python",
   "name": "python3"
  },
  "language_info": {
   "codemirror_mode": {
    "name": "ipython",
    "version": 3
   },
   "file_extension": ".py",
   "mimetype": "text/x-python",
   "name": "python",
   "nbconvert_exporter": "python",
   "pygments_lexer": "ipython3",
   "version": "3.7.0"
  }
 },
 "nbformat": 4,
 "nbformat_minor": 2
}
