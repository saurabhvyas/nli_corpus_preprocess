{
 "cells": [
  {
   "cell_type": "code",
   "execution_count": 16,
   "metadata": {},
   "outputs": [],
   "source": [
    "# this script takes training files of two datasets snli and sci and merges them together in the \n",
    "# format suitable for training on finetune code\n",
    "\n",
    "# to do , replace entailment with entails\n",
    "\n",
    "# note : manually remove and update the header of output file\n"
   ]
  },
  {
   "cell_type": "code",
   "execution_count": 17,
   "metadata": {},
   "outputs": [],
   "source": [
    "import pandas as pd\n",
    "import numpy as np"
   ]
  },
  {
   "cell_type": "code",
   "execution_count": 18,
   "metadata": {},
   "outputs": [
    {
     "name": "stdout",
     "output_type": "stream",
     "text": [
      "['annotator_labels' 'captionID' 'gold_label' 'pairID' 'sentence1'\n",
      " 'sentence1_binary_parse' 'sentence1_parse' 'sentence2'\n",
      " 'sentence2_binary_parse' 'sentence2_parse']\n"
     ]
    }
   ],
   "source": [
    "\n",
    "mydata=pd.read_json('snli_1.0_dev.jsonl' , lines=True)\n",
    "#csv_table=pd.read_table(tsv_file,sep='\\t')\n",
    "print(mydata.columns.values)\n",
    "#csv_table.to_csv('new_name.csv',index=False)"
   ]
  },
  {
   "cell_type": "code",
   "execution_count": 19,
   "metadata": {},
   "outputs": [],
   "source": [
    "mydata = mydata[['sentence1','sentence2','gold_label']]\n",
    "mydata = mydata.rename(columns={'sentence1': 'x1', 'sentence2': 'x2', 'gold_label': 'target'})"
   ]
  },
  {
   "cell_type": "code",
   "execution_count": 20,
   "metadata": {},
   "outputs": [
    {
     "name": "stdout",
     "output_type": "stream",
     "text": [
      "['x1' 'x2' 'target']\n"
     ]
    }
   ],
   "source": [
    "print(mydata.columns.values)\n",
    "\n",
    "# before saving remove the header\n"
   ]
  },
  {
   "cell_type": "code",
   "execution_count": 21,
   "metadata": {},
   "outputs": [],
   "source": [
    "mydata.to_csv('snli_1.0_dev_pandas.csv',header=False)"
   ]
  },
  {
   "cell_type": "code",
   "execution_count": null,
   "metadata": {},
   "outputs": [],
   "source": []
  },
  {
   "cell_type": "code",
   "execution_count": 22,
   "metadata": {},
   "outputs": [],
   "source": [
    "# preprocessing for scitail\n",
    "\n",
    "scitail_data=pd.read_csv('/Users/saurabh/Downloads/SciTailV1/tsv_format/scitail_1.0_dev.tsv',names = [\"x1\", \"x2\", \"target\"] , sep='\\t')\n",
    "\n",
    "\n",
    "\n",
    "#scitail_data.to_csv('scitail_1.0_train_pandas.csv',header=False)"
   ]
  },
  {
   "cell_type": "code",
   "execution_count": 23,
   "metadata": {},
   "outputs": [
    {
     "name": "stdout",
     "output_type": "stream",
     "text": [
      "['x1' 'x2' 'target']\n"
     ]
    }
   ],
   "source": [
    "print(scitail_data.columns.values)"
   ]
  },
  {
   "cell_type": "code",
   "execution_count": 24,
   "metadata": {},
   "outputs": [],
   "source": [
    "concatenated_dataset=pd.concat([mydata,scitail_data], ignore_index=True)"
   ]
  },
  {
   "cell_type": "code",
   "execution_count": 25,
   "metadata": {},
   "outputs": [
    {
     "name": "stdout",
     "output_type": "stream",
     "text": [
      "['x1' 'x2' 'target']\n",
      "x1        Two women are embracing while holding to go pa...\n",
      "x2                     The men are fighting outside a deli.\n",
      "target                                        contradiction\n",
      "Name: 2, dtype: object\n"
     ]
    }
   ],
   "source": [
    "print(concatenated_dataset.columns.values)\n",
    "print(concatenated_dataset.iloc[2])"
   ]
  },
  {
   "cell_type": "code",
   "execution_count": 26,
   "metadata": {},
   "outputs": [
    {
     "name": "stdout",
     "output_type": "stream",
     "text": [
      "['x1' 'x2' 'target']\n"
     ]
    }
   ],
   "source": [
    "concatenated_dataset_shuffled = concatenated_dataset.sample(frac=1).reset_index(drop=True)\n",
    "print(concatenated_dataset_shuffled.columns.values)"
   ]
  },
  {
   "cell_type": "code",
   "execution_count": 27,
   "metadata": {},
   "outputs": [
    {
     "name": "stdout",
     "output_type": "stream",
     "text": [
      "11304\n",
      "11146\n"
     ]
    }
   ],
   "source": [
    "# drop rows having optional class label, belonging to SNLI dataset\n",
    "\n",
    "print(concatenated_dataset_shuffled.shape[0])\n",
    "concatenated_dataset_shuffled = concatenated_dataset_shuffled.loc[concatenated_dataset_shuffled['target'] != '-']        \n",
    "                                                                \n",
    "                                                                \n",
    "                                    \n",
    "print(concatenated_dataset_shuffled.shape[0])"
   ]
  },
  {
   "cell_type": "code",
   "execution_count": 28,
   "metadata": {},
   "outputs": [],
   "source": [
    "concatenated_dataset_shuffled.to_csv('concatenated_dev_pandas.csv')"
   ]
  },
  {
   "cell_type": "code",
   "execution_count": 29,
   "metadata": {},
   "outputs": [],
   "source": [
    "# replace entailment with entails\n",
    "\n",
    "import fileinput\n",
    "\n",
    "with fileinput.FileInput('concatenated_dev_pandas.csv', inplace=True, backup='.bak') as file:\n",
    "    for line in file:\n",
    "        print(line.replace('entailment', 'entails'), end='')"
   ]
  },
  {
   "cell_type": "code",
   "execution_count": null,
   "metadata": {},
   "outputs": [],
   "source": []
  },
  {
   "cell_type": "code",
   "execution_count": null,
   "metadata": {},
   "outputs": [],
   "source": []
  }
 ],
 "metadata": {
  "kernelspec": {
   "display_name": "Python 3",
   "language": "python",
   "name": "python3"
  },
  "language_info": {
   "codemirror_mode": {
    "name": "ipython",
    "version": 3
   },
   "file_extension": ".py",
   "mimetype": "text/x-python",
   "name": "python",
   "nbconvert_exporter": "python",
   "pygments_lexer": "ipython3",
   "version": "3.7.0"
  }
 },
 "nbformat": 4,
 "nbformat_minor": 2
}
